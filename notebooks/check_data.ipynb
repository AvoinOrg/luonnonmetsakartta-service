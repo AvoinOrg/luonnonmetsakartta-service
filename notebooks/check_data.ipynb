{
 "cells": [
  {
   "cell_type": "code",
   "execution_count": 3,
   "metadata": {},
   "outputs": [],
   "source": [
    "import geopandas as gpd\n",
    "from pathlib import Path"
   ]
  },
  {
   "cell_type": "code",
   "execution_count": 10,
   "metadata": {},
   "outputs": [],
   "source": [
    "test_data = gpd.read_file(\"/app/data/test_data.zip\")"
   ]
  },
  {
   "cell_type": "code",
   "execution_count": null,
   "metadata": {},
   "outputs": [],
   "source": []
  },
  {
   "cell_type": "code",
   "execution_count": null,
   "metadata": {},
   "outputs": [
    {
     "name": "stdout",
     "output_type": "stream",
     "text": [
      "EPSG:3067 coordinates (ETRS89/TM35FIN):\n",
      "minx: 144286.33218675363\n",
      "maxx: 752934.2155768903\n",
      "miny: 6642928.395443255\n",
      "maxy: 7796732.440183549\n"
     ]
    }
   ],
   "source": [
    "from pyproj import Transformer\n",
    "\n",
    "# Define coordinates in EPSG:4326 (WGS84)\n",
    "wgs_coords = {\n",
    "    \"minx\": 20.6455928891,\n",
    "    \"maxx\": 31.5160921567,\n",
    "    \"miny\": 59.846373196,\n",
    "    \"maxy\": 70.1641930203,\n",
    "}\n",
    "\n",
    "# Create a transformer from EPSG:4326 to EPSG:3067\n",
    "transformer = Transformer.from_crs(\"EPSG:4326\", \"EPSG:3067\", always_xy=True)\n",
    "\n",
    "# Transform each corner point\n",
    "sw = transformer.transform(wgs_coords[\"minx\"], wgs_coords[\"miny\"])\n",
    "se = transformer.transform(wgs_coords[\"maxx\"], wgs_coords[\"miny\"])\n",
    "ne = transformer.transform(wgs_coords[\"maxx\"], wgs_coords[\"maxy\"])\n",
    "nw = transformer.transform(wgs_coords[\"minx\"], wgs_coords[\"maxy\"])\n",
    "\n",
    "# Get the bounding box in ETRS89/TM35FIN coordinates\n",
    "etrs_coords = {\n",
    "    \"minx\": min(sw[0], nw[0]),\n",
    "    \"maxx\": max(se[0], ne[0]),\n",
    "    \"miny\": min(sw[1], se[1]),\n",
    "    \"maxy\": max(nw[1], ne[1]),\n",
    "}\n",
    "\n",
    "print(\"EPSG:3067 coordinates (ETRS89/TM35FIN):\")\n",
    "print(f\"minx: {etrs_coords['minx']}\")\n",
    "print(f\"maxx: {etrs_coords['maxx']}\")\n",
    "print(f\"miny: {etrs_coords['miny']}\")\n",
    "print(f\"maxy: {etrs_coords['maxy']}\")"
   ]
  },
  {
   "cell_type": "code",
   "execution_count": null,
   "metadata": {},
   "outputs": [],
   "source": []
  }
 ],
 "metadata": {
  "kernelspec": {
   "display_name": "luonnonmetsakartta-service-9TtSrW0h-py3.12",
   "language": "python",
   "name": "python3"
  },
  "language_info": {
   "codemirror_mode": {
    "name": "ipython",
    "version": 3
   },
   "file_extension": ".py",
   "mimetype": "text/x-python",
   "name": "python",
   "nbconvert_exporter": "python",
   "pygments_lexer": "ipython3",
   "version": "3.12.8"
  }
 },
 "nbformat": 4,
 "nbformat_minor": 2
}
